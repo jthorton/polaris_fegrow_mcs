{
 "cells": [
  {
   "cell_type": "markdown",
   "id": "daa218b6",
   "metadata": {},
   "source": [
    "# Submit\n",
    "\n",
    "Collect the fegrow mcs results + the default run and make a single submission filling the gaps in the mcs run using the default."
   ]
  },
  {
   "cell_type": "code",
   "execution_count": 1,
   "id": "886e7a37",
   "metadata": {},
   "outputs": [
    {
     "data": {
      "text/html": [
       "<pre style=\"white-space:pre;overflow-x:auto;line-height:normal;font-family:Menlo,'DejaVu Sans Mono',consolas,'Courier New',monospace\"><span style=\"color: #7fbfbf; text-decoration-color: #7fbfbf\">[2025-03-13 20:30:47] </span><span style=\"color: #000080; text-decoration-color: #000080\">INFO    </span> The version of Polaris that was used to create the artifact <span style=\"font-weight: bold\">(</span><span style=\"color: #008080; text-decoration-color: #008080; font-weight: bold\">0.11</span>.<span style=\"color: #008080; text-decoration-color: #008080; font-weight: bold\">0</span><span style=\"font-weight: bold\">)</span> <a href=\"file:///home/josh/mambaforge/envs/fegrow/lib/python3.11/site-packages/polaris/_artifact.py\" target=\"_blank\"><span style=\"color: #7f7f7f; text-decoration-color: #7f7f7f\">_artifact.py</span></a><span style=\"color: #7f7f7f; text-decoration-color: #7f7f7f\">:</span><a href=\"file:///home/josh/mambaforge/envs/fegrow/lib/python3.11/site-packages/polaris/_artifact.py#92\" target=\"_blank\"><span style=\"color: #7f7f7f; text-decoration-color: #7f7f7f\">92</span></a>\n",
       "<span style=\"color: #7fbfbf; text-decoration-color: #7fbfbf\">                      </span>         is different from the currently installed version of Polaris         <span style=\"color: #7f7f7f; text-decoration-color: #7f7f7f\">               </span>\n",
       "<span style=\"color: #7fbfbf; text-decoration-color: #7fbfbf\">                      </span>         <span style=\"font-weight: bold\">(</span><span style=\"color: #008080; text-decoration-color: #008080; font-weight: bold\">0.11</span>.<span style=\"color: #008080; text-decoration-color: #008080; font-weight: bold\">9</span><span style=\"font-weight: bold\">)</span>.                                                            <span style=\"color: #7f7f7f; text-decoration-color: #7f7f7f\">               </span>\n",
       "</pre>\n"
      ],
      "text/plain": [
       "\u001b[2;36m[2025-03-13 20:30:47]\u001b[0m\u001b[2;36m \u001b[0m\u001b[34mINFO    \u001b[0m The version of Polaris that was used to create the artifact \u001b[1m(\u001b[0m\u001b[1;36m0.11\u001b[0m.\u001b[1;36m0\u001b[0m\u001b[1m)\u001b[0m \u001b]8;id=21652;file:///home/josh/mambaforge/envs/fegrow/lib/python3.11/site-packages/polaris/_artifact.py\u001b\\\u001b[2m_artifact.py\u001b[0m\u001b]8;;\u001b\\\u001b[2m:\u001b[0m\u001b]8;id=36882;file:///home/josh/mambaforge/envs/fegrow/lib/python3.11/site-packages/polaris/_artifact.py#92\u001b\\\u001b[2m92\u001b[0m\u001b]8;;\u001b\\\n",
       "\u001b[2;36m                      \u001b[0m         is different from the currently installed version of Polaris         \u001b[2m               \u001b[0m\n",
       "\u001b[2;36m                      \u001b[0m         \u001b[1m(\u001b[0m\u001b[1;36m0.11\u001b[0m.\u001b[1;36m9\u001b[0m\u001b[1m)\u001b[0m.                                                            \u001b[2m               \u001b[0m\n"
      ]
     },
     "metadata": {},
     "output_type": "display_data"
    },
    {
     "data": {
      "text/html": [
       "<pre style=\"white-space:pre;overflow-x:auto;line-height:normal;font-family:Menlo,'DejaVu Sans Mono',consolas,'Courier New',monospace\"><span style=\"color: #7fbfbf; text-decoration-color: #7fbfbf\">                      </span><span style=\"color: #808000; text-decoration-color: #808000\">WARNING </span> You're loading data from a remote location. If the dataset is small     <a href=\"file:///home/josh/mambaforge/envs/fegrow/lib/python3.11/site-packages/polaris/dataset/_base.py\" target=\"_blank\"><span style=\"color: #7f7f7f; text-decoration-color: #7f7f7f\">_base.py</span></a><span style=\"color: #7f7f7f; text-decoration-color: #7f7f7f\">:</span><a href=\"file:///home/josh/mambaforge/envs/fegrow/lib/python3.11/site-packages/polaris/dataset/_base.py#181\" target=\"_blank\"><span style=\"color: #7f7f7f; text-decoration-color: #7f7f7f\">181</span></a>\n",
       "<span style=\"color: #7fbfbf; text-decoration-color: #7fbfbf\">                      </span>         enough, consider caching the dataset first using                        <span style=\"color: #7f7f7f; text-decoration-color: #7f7f7f\">            </span>\n",
       "<span style=\"color: #7fbfbf; text-decoration-color: #7fbfbf\">                      </span>         <span style=\"color: #800080; text-decoration-color: #800080; font-weight: bold\">CompetitionSpecification.cache</span><span style=\"font-weight: bold\">()</span> for more performant data access.       <span style=\"color: #7f7f7f; text-decoration-color: #7f7f7f\">            </span>\n",
       "</pre>\n"
      ],
      "text/plain": [
       "\u001b[2;36m                     \u001b[0m\u001b[2;36m \u001b[0m\u001b[33mWARNING \u001b[0m You're loading data from a remote location. If the dataset is small     \u001b]8;id=299368;file:///home/josh/mambaforge/envs/fegrow/lib/python3.11/site-packages/polaris/dataset/_base.py\u001b\\\u001b[2m_base.py\u001b[0m\u001b]8;;\u001b\\\u001b[2m:\u001b[0m\u001b]8;id=257638;file:///home/josh/mambaforge/envs/fegrow/lib/python3.11/site-packages/polaris/dataset/_base.py#181\u001b\\\u001b[2m181\u001b[0m\u001b]8;;\u001b\\\n",
       "\u001b[2;36m                      \u001b[0m         enough, consider caching the dataset first using                        \u001b[2m            \u001b[0m\n",
       "\u001b[2;36m                      \u001b[0m         \u001b[1;35mCompetitionSpecification.cache\u001b[0m\u001b[1m(\u001b[0m\u001b[1m)\u001b[0m for more performant data access.       \u001b[2m            \u001b[0m\n"
      ]
     },
     "metadata": {},
     "output_type": "display_data"
    }
   ],
   "source": [
    "from rdkit import Chem\n",
    "import pathlib\n",
    "import polaris as po\n",
    "\n",
    "competition = po.load_competition(\"asap-discovery/antiviral-ligand-poses-2025\")"
   ]
  },
  {
   "cell_type": "code",
   "execution_count": 2,
   "id": "42172833",
   "metadata": {},
   "outputs": [],
   "source": [
    "train, test = competition.get_train_test_split()"
   ]
  },
  {
   "cell_type": "code",
   "execution_count": 7,
   "id": "cdfb4573",
   "metadata": {},
   "outputs": [],
   "source": [
    "# load our best results\n",
    "mcs_mers_folder = pathlib.Path(\"full_run-MERS/outputs\")\n",
    "mcs_mers_ligands = []\n",
    "for lig_dir in mcs_mers_folder.glob(\"*\"):\n",
    "    if \"ligand\" in lig_dir.name:\n",
    "        best_pose = Chem.MolFromMolFile(lig_dir.joinpath(\"best_pose.sdf\"))\n",
    "        if best_pose is not None:\n",
    "            mcs_mers_ligands.append(best_pose)\n",
    "            "
   ]
  },
  {
   "cell_type": "code",
   "execution_count": 8,
   "id": "07f9fdc9",
   "metadata": {},
   "outputs": [],
   "source": [
    "mcs_sars_ligands = []\n",
    "supplier = Chem.SDMolSupplier(\"sars_run_mcs/best_sars.sdf\")\n",
    "for mol in supplier:\n",
    "    mcs_sars_ligands.append(mol)"
   ]
  },
  {
   "cell_type": "code",
   "execution_count": 9,
   "id": "208a5698",
   "metadata": {},
   "outputs": [],
   "source": [
    "# load the mixture of mols\n",
    "default_submission_ligands = []\n",
    "supplier = Chem.SDMolSupplier(\"default_fegrow/submitted_default.sdf\")\n",
    "for mol in supplier:\n",
    "    default_submission_ligands.append(mol)"
   ]
  },
  {
   "cell_type": "code",
   "execution_count": 10,
   "id": "a9e8eafe",
   "metadata": {},
   "outputs": [
    {
     "data": {
      "text/plain": [
       "(62, 83, 195)"
      ]
     },
     "execution_count": 10,
     "metadata": {},
     "output_type": "execute_result"
    }
   ],
   "source": [
    "# check how many ligands we have\n",
    "len(mcs_mers_ligands), len(mcs_sars_ligands), len(default_submission_ligands)"
   ]
  },
  {
   "cell_type": "code",
   "execution_count": 12,
   "id": "5e33bf65",
   "metadata": {},
   "outputs": [],
   "source": [
    "# make quick lookups for the ligands\n",
    "sars_by_smiles, mers_by_smiles = {}, {}\n",
    "for mol in mcs_sars_ligands:\n",
    "    smiles = Chem.MolToSmiles(mol)\n",
    "    can_smiles = Chem.CanonSmiles(smiles)\n",
    "    sars_by_smiles[can_smiles] = mol\n",
    "    \n",
    "for mol in mcs_mers_ligands:\n",
    "    smiles = Chem.MolToSmiles(mol)\n",
    "    can_smiles = Chem.CanonSmiles(smiles)\n",
    "    mers_by_smiles[can_smiles] = mol"
   ]
  },
  {
   "cell_type": "code",
   "execution_count": 13,
   "id": "2a9477c9",
   "metadata": {},
   "outputs": [
    {
     "data": {
      "text/plain": [
       "(83, 61)"
      ]
     },
     "execution_count": 13,
     "metadata": {},
     "output_type": "execute_result"
    }
   ],
   "source": [
    "# lost one mers molecule?\n",
    "len(sars_by_smiles), len(mers_by_smiles)"
   ]
  },
  {
   "cell_type": "code",
   "execution_count": 14,
   "id": "f466bd48",
   "metadata": {},
   "outputs": [],
   "source": [
    "# make a lookup for the default\n",
    "default_mol_by_smiles = {}\n",
    "for mol in default_submission_ligands:\n",
    "    smiles = Chem.MolToSmiles(mol)\n",
    "    can_smiles = Chem.CanonSmiles(smiles)\n",
    "    default_mol_by_smiles[can_smiles] = mol"
   ]
  },
  {
   "cell_type": "code",
   "execution_count": 17,
   "id": "86a58072",
   "metadata": {},
   "outputs": [
    {
     "data": {
      "text/plain": [
       "161"
      ]
     },
     "execution_count": 17,
     "metadata": {},
     "output_type": "execute_result"
    }
   ],
   "source": [
    "# duplicate ligands?\n",
    "len(default_mol_by_smiles)"
   ]
  },
  {
   "cell_type": "code",
   "execution_count": 34,
   "id": "02494cf8",
   "metadata": {},
   "outputs": [
    {
     "name": "stdout",
     "output_type": "stream",
     "text": [
      "Using default for  O=C1c2ccc(Cl)cc2[C@@]2(CN1Cc1nnco1)C(=O)N(c1cncc3ccccc13)C[C@@H]2CNc1ncncn1\n",
      "Using mcs mers for  COc1ccc(N(Cc2cccc(Cl)c2)C(=O)Cc2cncc3ccccc23)cc1\n",
      "Using mcs sars for  CNC(=O)CN1C[C@@]2(C(=O)N(c3cncc4ccccc34)C[C@@H]2CNc2ccncn2)c2cc(Cl)ccc2C1=O\n",
      "Using default for  CNC(=O)CN1C[C@@]2(C(=O)N(c3cncc4ccccc34)C[C@@H]2[NH3+])c2cc(Cl)ccc2C1=O\n",
      "Using default for  O=C1c2ccc(Cl)cc2[C@@]2(CN1Cc1ccnnc1)C(=O)N(c1cncc3ccccc13)C[C@@H]2CNc1ccncn1\n",
      "Using mcs sars for  CNC(=O)CN1C[C@@]2(C(=O)N(c3cncc4ccccc34)C[C@@H]2CNc2cnn(C)c2)c2cc(Cl)ccc2C1=O\n",
      "Using mcs sars for  Cc1cnc(CN2C[C@@]3(C(=O)N(c4cncc5ccccc45)C[C@@H]3C)c3cc(F)ccc3C2=O)cn1\n",
      "Using mcs sars for  CNC(=O)CN1C[C@@]2(C(=O)N(c3cncc4ccccc34)C[C@@H]2COC(C)C)c2cc(Cl)ccc2C1=O\n",
      "Using mcs sars for  C[C@H]1CN(c2cncc3ccccc23)C(=O)[C@@]12CN(Cc1nccn1C)C(=O)c1ccc(F)cc12\n",
      "Using mcs mers for  C[C@H]1c2ccsc2CCN1C(=O)Cc1cncc2ccccc12\n",
      "Using default for  C[C@H]1CN(c2cncc3ccccc23)C(=O)[C@@]12CN(CC#N)C(=O)c1ccc(F)cc12\n",
      "Using default for  CCC(=O)[N@H+]1CCCc2c(N(Cc3cccc(Cl)c3)C(=O)Cc3cncc4ccccc34)cccc21\n",
      "Using mcs sars for  C=C(CN(C(=O)[C@@H]1CN(CC(=O)NC)C(=O)c2ccc(Cl)cc21)c1cncc2ccccc12)C(=O)[O-]\n",
      "Using mcs mers for  O=C(Cc1cncc2ccccc12)N1CCCCC1\n",
      "Using mcs sars for  CCC1CCN(C(=O)Cc2cncc3ccccc23)CC1\n",
      "Using mcs sars for  CCS(=O)(=O)N1CC2(C1)C(=O)N(c1cncc3ccccc13)C(=O)N2C\n",
      "Using mcs sars for  CNC(=O)CN1C[C@@]2(C(=O)N(c3cncc4ccccc34)C[C@@H]2COC)c2cc(Cl)ccc2C1=O\n",
      "Using default for  C[C@H]1CN(c2cncc3ccccc23)C(=O)[C@@]12CN(CC(=O)NCc1ccnn1C)C(=O)c1ccccc12\n",
      "Using mcs sars for  C[C@H]1C=CCN(C(=O)Cc2cncc3ccccc23)CC1\n",
      "Using mcs sars for  C[C@H]1CN(c2cncc3ccccc23)C(=O)[C@@]12CN(Cc1c[nH+]c[nH]1)C(=O)c1ccc(F)cc12\n",
      "Using default for  Cc1cc(CN2C[C@@]3(C(=O)N(c4cncc5ccccc45)C[C@@H]3C)c3cc(F)ccc3C2=O)on1\n",
      "Using mcs sars for  CN1C(=O)N(c2cncc3ccccc23)C(=O)C12CN(S(=O)(=O)c1ccccc1)C2\n",
      "Using mcs sars for  O=C1c2ccc(Cl)cc2[C@@]2(CN1CC[NH+]1CCOCC1)C(=O)N(c1cncc3ccccc13)C[C@@H]2CNc1ncccn1\n",
      "Using mcs sars for  CNC(=O)CN1C[C@@]2(C(=O)N(c3cncc4ccccc34)C[C@@H]2CNc2ccnc(C)n2)c2cc(Cl)ccc2C1=O\n",
      "Using mcs mers for  C[C@H]1C[NH+](CCN2C[C@@]3(C(=O)N(c4cncc5ccccc45)C[C@@H]3C)c3cc(Cl)ccc3C2=O)C[C@H](C)O1\n",
      "Using mcs sars for  C[C@H]1CN(c2cncc3ccccc23)C(=O)[C@@]12CN(CC[NH+]1CCN(S(C)(=O)=O)CC1)C(=O)c1ccc(Cl)cc12\n",
      "Using mcs mers for  COc1ccccc1[C@@H]1C[C@H](C)CCN1C(=O)Cc1cncc2ccccc12\n",
      "Using mcs sars for  CNC(=O)CN1C[C@@]2(C(=O)N(c3cncc4ccccc34)C[C@@H]2Cn2cccn2)c2cc(Cl)ccc2C1=O\n",
      "Using mcs sars for  CNC(=O)CN1C[C@@]2(C(=O)N(c3cncc4ccccc34)C[C@@H]2Cn2ncnn2)c2cc(Cl)ccc2C1=O\n",
      "Using mcs mers for  O=C(Cc1cncc2ccccc12)N1C[C@H](CF)C2(CCCC2)C1\n",
      "Using mcs mers for  CNC(=O)CN1C[C@@]2(C(=O)N(c3cncc4ccccc34)C[C@@H]2COCC2CC2)c2cc(Cl)ccc2C1=O\n",
      "Using mcs sars for  C[C@@H]1CCc2c([O-])n(-c3cncc4ccccc34)c(=O)n2C1\n",
      "Using mcs mers for  C[C@H]1CN(c2cncc3ccccc23)C(=O)[C@@]12CN(CC[N@@H+]1C[C@@H]3C[C@H]1CO3)C(=O)c1ccc(Cl)cc12\n",
      "Using mcs mers for  C[C@H]1C[N@H+](CCN2C[C@@]3(C(=O)N(c4cncc5ccccc45)C[C@@H]3C)c3cc(Cl)ccc3C2=O)[C@@H](C)CO1\n",
      "Using mcs sars for  C[C@H]1CN(c2cncc3ccccc23)C(=O)[C@@]12CN(Cc1cc[nH]n1)C(=O)c1ccc(F)cc12\n",
      "Using default for  C[C@H]1C[C@H](c2ccccc2)N(C(=O)Cc2cncc3ccccc23)C1\n",
      "Using mcs sars for  O=C1[C@@H](c2ccc(Cl)c(Cl)c2)C[C@H](O)CN1c1cncc2ccccc12\n",
      "Using default for  C[C@H]1CN(c2cncc3ccccc23)C(=O)[C@@]12CN(Cc1nncn1C)C(=O)c1ccc(F)cc12\n",
      "Using mcs sars for  CNC(=O)CN1C[C@@]2(C(=O)N(c3cncc4ccccc34)C[C@@H]2Cc2ccccc2)c2cc(Cl)ccc2C1=O\n",
      "Using mcs mers for  C[C@H]1CC[C@@]2(CCN(C(=O)Cc3cncc4ccccc34)C2)CC1\n",
      "Using default for  O=C(C[N@H+]1Cc2ccc(Cl)cc2[C@H](C(=O)Nc2cncc3ccccc23)C1)NCCc1ccc(C(F)F)cc1\n",
      "Using mcs mers for  CCC(=O)N1CCCc2ccc(N(C(=O)Cc3cncc4ccccc34)N(C)c3cccc(Cl)c3)cc21\n",
      "Using default for  C[C@H]1CN(c2cncc3ccccc23)C(=O)[C@@]12CN(Cc1cnn(C)c1)C(=O)c1ccc(F)cc12\n",
      "Using mcs mers for  O=C(Cc1cncc2ccccc12)N1CCc2c(Cl)cccc2C1\n",
      "Using mcs mers for  C[C@H]1C[N@@H+](CCN2C[C@@]3(C(=O)N(c4cncc5ccccc45)C[C@@H]3C)c3cc(Cl)ccc3C2=O)CCO1\n",
      "Using mcs sars for  C[C@H]1CN(c2cncc3ccccc23)C(=O)[C@@]12CN(CC(=O)NCC1CC1)C(=O)c1ccc(F)cc12\n",
      "Using default for  O=C1N[C@@]2(CCOc3ccncc32)C(=O)N1c1cncc2ccccc12\n",
      "Using mcs mers for  C[NH2+]CCN1C[C@@]2(C(=O)N(c3cncc4ccccc34)C[C@@H]2COCC2COC2)c2cc(Cl)ccc2C1=O\n",
      "Using mcs sars for  CNC(=O)CN1C[C@@]2(C(=O)N(c3cncc4ccccc34)C[C@@H]2CNc2ccccc2)c2cc(Cl)ccc2C1=O\n",
      "Using mcs sars for  O=C(C[N@H+]1Cc2ccc(Cl)cc2[C@@]2(CCN(c3cncc4ccccc34)C2=O)C1)NC[C@H]1C[C@@H](F)C1\n",
      "Using mcs sars for  O=C(C[N@H+]1Cc2ccc(Cl)cc2[C@H](C(=O)Nc2cncc3ccccc23)C1)Nc1ccc(N2CCOCC2=O)cc1\n",
      "Using mcs sars for  C[C@H]1CN(c2cncc3ccccc23)C(=O)[C@@]12CN(Cc1cn[nH]n1)C(=O)c1ccc(F)cc12\n",
      "Using mcs sars for  C[NH2+]CCN1C[C@@]2(C(=O)N(c3cncc4ccccc34)C[C@@H]2C)c2cc(F)ccc2C1=O\n",
      "Using mcs mers for  CNC(=O)CN1C[C@@]2(C(=O)N(c3cncc4ccccc34)C[C@@H]2CNc2cnn(C)c2)c2cc(Cl)ccc2C1=O\n",
      "Using mcs mers for  O=C1N[C@]2(C[C@H](c3ccccc3Cl)C2)C(=O)N1c1cncc2ccccc12\n",
      "Using mcs sars for  CNC(=O)CN1C[C@@]2(C(=O)N(c3cncc4ccccc34)C[C@@H]2CS(=O)(=O)NC)c2cc(Cl)ccc2C1=O\n",
      "Using mcs mers for  CC[C@H]1C[C@@H](C(F)(F)F)CCN1C(=O)Cc1cncc2ccccc12\n",
      "Using mcs mers for  C[NH2+]CCN1C[C@@]2(C(=O)N(c3cncc4ccccc34)C[C@@H]2COCC2(F)COC2)c2cc(Cl)ccc2C1=O\n",
      "Using mcs mers for  C[NH2+]CCN1C[C@@]2(C(=O)N(c3cncc4ccccc34)C[C@@H]2CNc2ncncn2)c2cc(Cl)ccc2C1=O\n",
      "Using mcs mers for  CNC(=O)CN1C[C@@]2(C(=O)N(c3cncc4ccccc34)C[C@@H]2Cc2ccccc2)c2cc(Cl)ccc2C1=O\n",
      "Using default for  O=C1c2ccc(Cl)cc2[C@@]2(CN1Cc1nnco1)C(=O)N(c1cncc3ccccc13)C[C@@H]2CNc1ccncn1\n",
      "Using mcs mers for  C[C@H]1CN(c2cncc3ccccc23)C(=O)[C@@]12CN(CC[N@H+]1CCOC(C)(C)C1)C(=O)c1ccc(Cl)cc12\n",
      "Using mcs sars for  C[C@H]1CN(c2cncc3ccccc23)C(=O)[C@@]12CN(Cc1cn[nH]n1)C(=O)c1ccc(F)cc12\n",
      "Using default for  O=C(Cc1cncc2ccccc12)N1CCC[C@@H]1c1cccc(F)c1\n",
      "Using mcs sars for  C[C@H]1CN(c2cncc3ccccc23)C(=O)[C@@]12CN(Cc1cc(=O)[nH]cn1)C(=O)c1ccc(F)cc12\n",
      "Using mcs sars for  CNC(=O)CN1C[C@@]2(C(=O)N(c3cncc4ccccc34)C[C@@H]2CNc2ccncn2)c2cc(Cl)ccc2C1=O\n",
      "Using mcs sars for  C[C@H]1CN(c2cncc3ccccc23)C(=O)[C@@]12CN(Cc1nnnn1C)C(=O)c1ccc(F)cc12\n",
      "Using default for  C[C@H]1CN(c2cncc3ccccc23)C(=O)[C@@]12CN(Cc1cnn(C)n1)C(=O)c1ccc(F)cc12\n",
      "Using mcs mers for  N#CCc1ccc(N(Cc2cccc(Cl)c2)C(=O)Cc2cncc3ccccc23)cc1\n",
      "Using mcs sars for  C[C@H](NC(=O)COS(N)(=O)=O)c1cc(Cl)cc(-c2ccc(S(N)(=O)=O)cc2)c1\n",
      "Using mcs sars for  CNC(=O)CN1C[C@@]2(C(=O)N(c3cncc4ccccc34)C[C@@H]2COC(C)C)c2cc(Cl)ccc2C1=O\n",
      "Using mcs sars for  O=C(Cc1cncc2ccccc12)N1CCC(C(F)(F)F)CC1\n",
      "Using default for  O=C(Cc1cncc2ccccc12)N1CCCC[C@H]1c1ccccc1\n",
      "Using default for  C[C@H]1CN(c2cncc3ccccc23)C(=O)[C@@]12CN(Cc1ccn(C)n1)C(=O)c1ccc(F)cc12\n",
      "Using mcs mers for  N#Cc1ccc(N(Cc2cccc(Cl)c2)C(=O)Cc2cncc3ccccc23)cc1\n",
      "Using mcs mers for  C[NH2+]CCN1C[C@@]2(C(=O)N(c3cncc4ccccc34)C[C@@H]2COCC2CS(=O)(=O)C2)c2cc(Cl)ccc2C1=O\n",
      "Using mcs sars for  CNC(=O)CN1C[C@@]2(C(=O)N(c3cncc4ccccc34)C[C@@H]2C)c2ccccc2C1=O\n",
      "Using default for  C[C@H]1C[C@@H](C)N(C(=O)Cc2cncc3ccccc23)[C@@H](C)C1\n",
      "Using mcs sars for  CC(=O)N1C[C@@H]2C[C@H]1c1c([O-])n(-c3cncc4ccccc34)c(=O)n12\n",
      "Using mcs sars for  CC1CCN(C(=O)Cc2cncc3ccccc23)CC1\n",
      "Using mcs sars for  CNC(=O)CN1C[C@@]2(C(=O)N(c3cncc4ccccc34)C[C@@H]2CS(=O)(=O)N(C)C)c2cc(F)ccc2C1=O\n",
      "Using mcs sars for  Cn1ncc2cncc(NC(=O)[C@@H]3CNS(=O)(=O)c4ccc(Cl)cc43)c21\n",
      "Using default for  CCO[C@H]1CN(c2cncc3ccccc23)C(=O)[C@@]12CN(CC(=O)NC)C(=O)c1ccc(Cl)cc12\n",
      "Using mcs sars for  CNC(=O)CN1C[C@@]2(C(=O)N(c3cncc4ccccc34)C[C@@H]2CNc2scnc2C)c2cc(Cl)ccc2C1=O\n",
      "Using mcs mers for  CNC(=O)CN1C[C@@]2(C(=O)N(c3cncc4ccccc34)C[C@@H]2CC#N)c2cc(Cl)ccc2C1=O\n",
      "Using mcs sars for  CNC(=O)CN1C[C@@]2(C(=O)N(c3cncc4ccccc34)C[C@@H]2COC)c2cc(Cl)ccc2C1=O\n",
      "Using mcs mers for  C[C@H]1CN(c2cncc3ccccc23)C(=O)[C@@]12CN(CCN1CCS(=O)(=O)CC1)C(=O)c1ccc(Cl)cc12\n",
      "Using mcs sars for  CNC(=O)CN1C[C@@]2(C(=O)N(c3cncc4ccccc34)C[C@@H]2Cc2ccccc2)c2cc(Cl)ccc2C1=O\n",
      "Using mcs sars for  C[C@H]1CN(c2cncc3ccccc23)C(=O)[C@@]12CN(CC#N)C(=O)c1ccc(F)cc12\n",
      "Using mcs sars for  O=C(Cc1cncc2ccccc12)N(Cc1cccc(Cl)c1)[C@]12C[N@@H+](C3CC3)[C@H](C1)C2\n",
      "Using mcs sars for  CC(C)C1CCN(C(=O)Cc2cncc3ccccc23)CC1\n",
      "Using mcs sars for  CNC(=O)CN1C[C@@]2(C(=O)N(c3cncc4ccccc34)C[C@@H]2CNc2cnc(C)s2)c2cc(Cl)ccc2C1=O\n",
      "Using mcs mers for  CNC(=O)CN1C[C@@]2(C(=O)N(c3cncc4ccccc34)C[C@@H]2Cc2nn[n-]n2)c2cc(Cl)ccc2C1=O\n",
      "Using mcs sars for  CNC(=O)CN1C[C@@]2(C(=O)N(c3cncc4ccccc34)C[C@@H]2COC(C)C)c2cc(F)ccc2C1=O\n",
      "Using default for  CCn1nccc1CN1C[C@@]2(C(=O)N(c3cncc4ccccc34)C[C@@H]2C)c2cc(F)ccc2C1=O\n",
      "Using mcs sars for  C=C(CN(C(=O)Nc1cncc2ccccc12)c1cccc(Cl)c1)C(=O)NCC\n",
      "Using default for  CNC(=O)CN1C[C@@]2(C(=O)N(c3cncc4ccccc34)C[C@@H]2CCl)c2cc(Cl)ccc2C1=O\n",
      "Using mcs sars for  CCC(=O)Nc1cccc(N(Cc2ccccc2)C(=O)Cc2cncc3ccccc23)c1\n",
      "Using mcs mers for  CNC(=O)CN1C[C@@]2(C(=O)N(c3cncc4ccccc34)C[C@@H]2COC)c2cc(Cl)ccc2C1=O\n",
      "Using mcs mers for  CCS(=O)(=O)N[C@H]1CN(c2cncc3ccccc23)C(=O)[C@@]12CN(CC(=O)NC)C(=O)c1ccc(Cl)cc12\n",
      "Using default for  CNC(=O)CN1C[C@@]2(C(=O)N(c3cncc4ccccc34)C[C@@H]2C)c2cc(F)ccc2C1=O\n",
      "Using mcs mers for  C[C@H]1CCN(C(=O)Cc2cncc3ccccc23)CCO1\n",
      "Using default for  CN1C[C@@H](C(=O)Nc2cncc3ccccc23)c2cc(Cl)ccc2C1=O\n",
      "Using mcs mers for  O=C(Cc1cncc2ccccc12)N1CCc2sccc2C1\n",
      "Using default for  Cc1nnc(CN2C[C@@]3(C(=O)N(c4cncc5ccccc45)C[C@@H]3CNc3ccncn3)c3cc(Cl)ccc3C2=O)o1\n",
      "Using mcs sars for  CCNC(=O)CN1C[C@@]2(C(=O)N(c3cncc4ccccc34)C[C@@H]2C)c2cc(Cl)ccc2C1=O\n",
      "Using mcs mers for  CNC(=O)CN1C[C@@]2(C(=O)N(c3cncc4ccccc34)C[C@@H]2CNc2ccncn2)c2cc(Cl)ccc2C1=O\n",
      "Using default for  O=C1c2ccc(Cl)cc2[C@@]2(CN1CC[NH+]1CC3(COC3)C1)C(=O)N(c1cncc3ccccc13)C[C@@H]2CNc1ncccn1\n",
      "Using default for  Cn1c(Cc2ccccc2)nn(-c2cncc3ccccc23)c1=O\n",
      "Using mcs mers for  CNC(=O)CN1C[C@@]2(C(=O)N(c3cncc4ccccc34)C[C@@H]2CNc2cnccn2)c2cc(Cl)ccc2C1=O\n",
      "Using default for  Cn1ccc(CN2C[C@]3(CCN(c4cncc5ccccc45)C3=O)c3cc(Cl)ccc3C2=O)n1\n",
      "Using mcs sars for  COC[C@H]1CN(c2cncc3ccccc23)C(=O)[C@@]12CN(Cc1c[nH+]c[nH]1)C(=O)c1ccc(Cl)cc12\n",
      "Using mcs sars for  C[C@H]1CN(c2cncc3ccccc23)C(=O)[C@@]12CN(Cc1ncccn1)C(=O)c1ccc(F)cc12\n",
      "Using mcs sars for  CNC(=O)CN1C[C@@]2(C(=O)N(c3cncc4ccccc34)CC2(C)C)c2cc(Cl)ccc2C1=O\n",
      "Using mcs sars for  CN1C[C@@H](C(=O)Nc2cncc3ccccc23)c2cc(Cl)ccc2C1=O\n",
      "Using mcs sars for  CNC(=O)CN1C[C@@]2(C(=O)N(c3cncc4ccccc34)C[C@@H]2Cc2nn[n-]n2)c2cc(Cl)ccc2C1=O\n",
      "Using mcs mers for  O=C(Cc1cncc2ccccc12)N1CCCSC[C@H]1C(F)(F)F\n",
      "Using mcs mers for  CNC(=O)CN1C[C@@]2(C(=O)N(c3cncc4ccccc34)C[C@@H]2CNc2cnc(C)s2)c2cc(Cl)ccc2C1=O\n",
      "Using mcs sars for  CCn1nccc1CN1C[C@@]2(C(=O)N(c3cncc4ccccc34)C[C@@H]2C)c2cc(F)ccc2C1=O\n"
     ]
    },
    {
     "name": "stdout",
     "output_type": "stream",
     "text": [
      "Using default for  C[C@H]1CN(c2cncc3ccccc23)C(=O)[C@@]12CN(Cc1ccncn1)C(=O)c1ccc(F)cc12\n",
      "Using mcs sars for  O=C(Cc1cncc2ccccc12)N1CCC2(CCC2)CC1\n",
      "Using mcs sars for  O=C(Cc1cncc2ccccc12)N1CCC(C2CC2)CC1\n",
      "Using mcs sars for  CNC(=O)CN1C[C@@]2(C(=O)N(c3cncc4ccccc34)C[C@@H]2CO)c2cc(Cl)ccc2C1=O\n",
      "Using mcs mers for  COC[C@H]1CN(c2cncc3ccccc23)C(=O)[C@@]12CN(Cc1ncc[nH]1)C(=O)c1ccc(Cl)cc12\n",
      "Using mcs mers for  O=C(Cc1cncc2ccccc12)N1CCc2sccc2C1\n",
      "Using mcs sars for  C[C@H]1CN(c2cncc3ccccc23)C(=O)[C@@]12CN(Cc1nc[nH]n1)C(=O)c1ccc(F)cc12\n",
      "Using mcs mers for  O=C1c2ccc(Cl)cc2[C@@]2(CN1Cc1ccnnc1)C(=O)N(c1cncc3ccccc13)C[C@@H]2CNc1nncs1\n",
      "Using mcs sars for  C[C@H]1CN(c2cncc3ccccc23)C(=O)[C@@]12CN(Cc1cocn1)C(=O)c1ccc(F)cc12\n",
      "Using mcs mers for  C[C@H]1CN(c2cncc3ccccc23)C(=O)[C@@]12CN(CC[N@@H+]1CCC3(COC3)C1)C(=O)c1ccc(Cl)cc12\n",
      "Using mcs sars for  CC[C@H]1c2ccsc2CCN1C(=O)Cc1cncc2ccccc12\n",
      "Using default for  Cn1ccc(CN2C[C@]3(CCN(c4cncc5ccccc45)C3=O)c3cc(Cl)ccc3C2=O)n1\n",
      "Using mcs mers for  C[C@H]1CN(c2cncc3ccccc23)C(=O)[C@@]12CN(CC[NH+]1CCOCC1)C(=O)c1ccc(Cl)cc12\n",
      "Using default for  CNC(=O)CN1C(=O)C2=CC=C(Cl)C[C@@]23[C@@H]1[C@]31C(=O)N(c2cncc3ccccc23)C/C1=C\\F\n",
      "Using mcs sars for  Cc1cc(CN2C[C@@]3(C(=O)N(c4cncc5ccccc45)C[C@@H]3C)c3cc(F)ccc3C2=O)on1\n",
      "Using mcs mers for  O=C(Cc1cncc2ccccc12)N1CC[C@H]2CCC(F)(F)C[C@H]2C1\n",
      "Using mcs mers for  C[NH2+]CCN1C[C@@]2(C(=O)N(c3cncc4ccccc34)C[C@@H]2COCC2(F)CC2)c2cc(Cl)ccc2C1=O\n",
      "Using default for  O=C(Cc1cncc2ccccc12)N(Cc1cccc(Cl)c1)[C@]12CC[C@H](C1)[N@H+](CC1COC1)C2\n",
      "Using default for  Cc1nc(CN2C[C@@]3(C(=O)N(c4cncc5ccccc45)C[C@@H]3C)c3cc(F)ccc3C2=O)no1\n",
      "Using default for  C=CC(=O)N1CCCc2c1cccc2[N@@H+](Cc1cccc(Cl)c1)C(=O)Cc1cncc2ccccc12\n",
      "Using mcs sars for  CC(C)CC1(C)CCN(C(=O)Cc2cncc3ccccc23)CC1\n",
      "Using mcs mers for  CCC(=O)N1CCCc2ccc(N(Cc3cccc(Cl)c3)C(=O)Cc3cncc4c(F)cccc34)cc21\n",
      "Using default for  C[C@H]1CN(c2cncc3ccccc23)C(=O)[C@@]12CN(Cc1nnn(C)n1)C(=O)c1ccc(F)cc12\n",
      "Using mcs sars for  C[C@H]1CN(c2cncc3ccccc23)C(=O)[C@@]12CN(CC#N)C(=O)c1ccc(F)cc12\n",
      "Using default for  C[C@H]1CN(c2cncc3ccccc23)C(=O)[C@@]12CN(Cc1nccn1C)C(=O)c1ccc(F)cc12\n",
      "Using default for  CNC(=O)CN1C[C@@]2(C(=O)N(c3cncc4ccccc34)C[C@@H]2NC(C)=O)c2cc(Cl)ccc2C1=O\n",
      "Using default for  O=C(Cc1cncc2ccccc12)N1CCCc2sccc2C1\n",
      "Using mcs sars for  O=C(Cc1cncc2ccccc12)N1CCCC[C@H]1Cc1ccccc1\n",
      "Using default for  C[C@H]1CN(c2cncc3ccccc23)C(=O)[C@@]12CN(C1C[NH2+]C1)C(=O)c1ccc(Cl)cc12\n",
      "Using default for  C[C@H]1CN(c2cncc3ccccc23)C(=O)[C@@]12CN(Cc1ccon1)C(=O)c1ccc(F)cc12\n",
      "Using mcs mers for  COc1cccc(CNC(=O)CN2C[C@@]3(C(=O)N(c4cncc5ccccc45)C[C@@H]3C)c3cc(Cl)ccc3C2=O)c1\n",
      "Using mcs sars for  O=C1N[C@]2(C[C@H](c3ccccc3Cl)C2)C(=O)N1c1cncc2ccccc12\n",
      "Using default for  C[C@H]1CN(c2cncc3ccccc23)C(=O)[C@@]12CN(CC[NH+](C)C)C(=O)c1ccc(Cl)cc12\n",
      "Using mcs mers for  CC(C)(C#N)c1ccc(N(Cc2cccc(Cl)c2)C(=O)Cc2cncc3ccccc23)cc1\n",
      "Using mcs sars for  CNC(=O)CN1C[C@@]2(C(=O)N(c3cncc4ccccc34)C[C@@H]2CNc2cnccn2)c2cc(Cl)ccc2C1=O\n",
      "Using mcs mers for  COC(=O)N[C@H](C(=O)N1C[C@H](C(F)(F)F)C[C@H]1C(=O)N[C@H](C[NH3+])C[C@@H]1CCNC1=O)C(C)(C)C\n",
      "Using mcs sars for  C[C@H]1CN(c2cncc3ccccc23)C(=O)[C@@]12CN(CC[NH+]1CCOCC1)C(=O)c1ccc(Cl)cc12\n",
      "Using mcs sars for  C[C@H]1CN(c2cncc3ccccc23)C(=O)[C@@]12CN(Cc1cocn1)C(=O)c1ccc(F)cc12\n",
      "Using mcs mers for  CC1CCN(C(=O)Cc2cncc3ccccc23)CC1\n",
      "Using default for  C[C@H]1CN(c2cncc3ccccc23)C(=O)[C@@]12CN(Cc1ccnn1C)C(=O)c1ccc(F)cc12\n",
      "Using default for  Cc1nc(CN2C[C@@]3(C(=O)N(c4cncc5ccccc45)C[C@@H]3C)c3cc(F)ccc3C2=O)co1\n",
      "Using mcs sars for  CNC(=O)CN1C[C@@]2(C(=O)N(c3cncc4ccccc34)C[C@@H]2C)c2cc(Cl)ccc2C1=O\n",
      "Using mcs sars for  CN1C(=O)N(c2cncc3ccccc23)C(=O)C12CN(S(=O)(=O)C1CC1)C2\n",
      "Using default for  C[C@H]1CN(c2cncc3ccccc23)C(=O)[C@@]12CN(Cc1ncco1)C(=O)c1ccc(F)cc12\n",
      "Using mcs mers for  C[C@@H]1COC[C@@H](C)[NH+]1CCN1C[C@@]2(C(=O)N(c3cncc4ccccc34)C[C@@H]2C)c2cc(Cl)ccc2C1=O\n",
      "Using default for  CNC(=O)C1(N2C[C@@]3(C(=O)N(c4cncc5ccccc45)C[C@@H]3C)c3cc(Cl)ccc3C2=O)CC1\n",
      "Using mcs sars for  CNC(=O)C1(N2C[C@@]3(C(=O)N(c4cncc5ccccc45)C[C@@H]3C)c3cc(Cl)ccc3C2=O)CC1\n",
      "Using default for  C[C@H]1CN(c2cncc3ccccc23)C(=O)[C@@]12CN(Cc1cocn1)C(=O)c1ccc(F)cc12\n",
      "Using default for  CNC(=O)CN1C[C@@]2(C(=O)N(c3cncc4ccccc34)C[C@@H]2CNc2ncncn2)c2cc(Cl)ccc2C1=O\n",
      "Using mcs mers for  CNC(=O)CN1C[C@@]2(C(=O)N(c3cncc4ccccc34)C[C@@H]2Cn2cccn2)c2cc(Cl)ccc2C1=O\n",
      "Using mcs mers for  CCC(=O)N1CCCc2ccc(N(Cc3cccc(Br)c3)C(=O)Cc3cncc4ccccc34)cc21\n",
      "Using mcs sars for  O=C(Cc1cncc2ccccc12)N1CC=CC=CC1\n",
      "Using default for  COc1ccccc1[C@H]1C[C@@H](C)CCN1C(=O)Cc1cncc2ccccc12\n",
      "Using default for  NS(=O)(=O)c1ccc2c(c1)[C@@]1(CCO2)NC(=O)N(c2cncc3ccccc23)C1=O\n",
      "Using mcs sars for  C[C@H]1CN(c2cncc3ccccc23)C(=O)[C@@]12CN(CC(=O)NCC1(F)CC1)C(=O)c1ccc(F)cc12\n",
      "Using mcs sars for  CNC(=O)CN1C[C@@]2(C(=O)N(c3cncc4ccccc34)CC23CC3)c2cc(Cl)ccc2C1=O\n",
      "Using default for  C[C@H]1CCN(C(=O)Cc2cncc3ccccc23)[C@@H](C)C1\n",
      "Using mcs sars for  C[C@H]1CN(c2cncc3ccccc23)C(=O)[C@@]12CN(Cc1ccnn1C)C(=O)c1ccc(F)cc12\n",
      "Using mcs sars for  O=C(Cc1cncc2ccccc12)N1CCC(C(F)F)CC1\n",
      "Using mcs mers for  O=C(Cc1cncc2ccccc12)N1CC=CCCC1\n",
      "Using mcs mers for  C[C@H]1CN(c2cncc3ccccc23)C(=O)[C@@]12CN(CC[NH+]1CCC1)C(=O)c1ccc(Cl)cc12\n",
      "Using mcs sars for  CC1(C)CCN(C(=O)Cc2cncc3ccccc23)CC1\n",
      "Using mcs sars for  CNC(=O)CN1C[C@@]2(C(=O)N(c3cncc4ccccc34)C[C@@H]2CS(=O)(=O)NC)c2cc(F)ccc2C1=O\n",
      "Using mcs sars for  CNC(=O)CN1C[C@@]2(C(=O)N(c3cncc4ccccc34)C[C@@H]2CNc2cnccn2)c2cc(Cl)ccc2C1=O\n",
      "Using default for  C[C@H]1CN(c2cncc3ccccc23)C(=O)[C@@]12CN(Cc1cn[nH]c1)C(=O)c1ccc(F)cc12\n",
      "Using mcs sars for  COC[C@H]1CN(c2cncc3ccccc23)C(=O)[C@@]12CN(Cc1cn[nH]c1)C(=O)c1ccc(Cl)cc12\n",
      "Using mcs mers for  O=C(Cc1cncc2ccccc12)N1C=CC=CC=C[C@H]1c1ccccc1\n",
      "Using mcs mers for  C[NH2+]CCN1C[C@@]2(C(=O)N(c3cncc4ccccc34)C[C@@H]2C)c2cc(F)ccc2C1=O\n",
      "Using mcs sars for  CCn1nccc1CN1C[C@@]2(C(=O)N(c3cncc4ccccc34)C[C@@H]2C)c2cc(F)ccc2C1=O\n",
      "Using default for  CCC(=O)[N@@H+]1CCCc2c(N(Cc3cccc(Cl)c3)C(=O)Cc3cncc4ccccc34)cccc21\n",
      "Using mcs mers for  CNC(=O)CN1C[C@@]2(C(=O)N(c3cncc4ccccc34)C[C@@H]2CS(=O)(=O)N(C)C)c2cc(F)ccc2C1=O\n",
      "Using mcs sars for  CNS(=O)(=O)OCC(=O)N[C@@H](C)c1cc(Cl)cc(-c2ccc(S(N)(=O)=O)cc2)c1\n",
      "Using mcs sars for  CNC(=O)CN1C[C@@]2(C(=O)N(c3cncc4ccccc34)C[C@@H]2CNc2ccncn2)c2cc(Cl)ccc2C1=O\n",
      "Using mcs mers for  O=C(Cc1cncc2ccccc12)NCc1cccc(Cl)c1\n",
      "Using mcs sars for  CNC(=O)CN1C[C@@]2(C(=O)N(c3cncc4ccccc34)C[C@@H]2COC(C)C)c2cc(Cl)ccc2C1=O\n",
      "Using default for  C[C@@H]1COC[C@@]2(C1)NC(=O)N(c1cncc3ccccc13)C2=O\n"
     ]
    }
   ],
   "source": [
    "# build our final predicted list\n",
    "import pandas as pd\n",
    "prediction_data = []\n",
    "best_predictions = []\n",
    "for test_entry in test:\n",
    "    smiles = Chem.CanonSmiles(test_entry[\"CXSMILES\"])\n",
    "    label = test_entry[\"Protein Label\"]\n",
    "    best_mol = None\n",
    "    row_data = {\"SMILES\": smiles, \"Protein Label\": label}\n",
    "    if label == \"MERS-CoV Mpro\":\n",
    "        # try and grab from mcs mers list\n",
    "        if smiles in mers_by_smiles:\n",
    "            print(\"Using mcs mers for \", smiles)\n",
    "            row_data[\"source\"] = \"mcs\"\n",
    "            best_mol = mers_by_smiles[smiles]\n",
    "    else:\n",
    "        if smiles in sars_by_smiles:\n",
    "            row_data[\"source\"] = \"mcs\"\n",
    "            print(\"Using mcs sars for \", smiles)\n",
    "            best_mol = sars_by_smiles[smiles]\n",
    "            \n",
    "    if best_mol is None:\n",
    "        # get the mol from the default list\n",
    "        row_data[\"source\"] = \"default\"\n",
    "        print(\"Using default for \", smiles)\n",
    "        best_mol = default_mol_by_smiles[smiles]\n",
    "        \n",
    "    best_predictions.append(best_mol)\n",
    "    prediction_data.append(row_data)"
   ]
  },
  {
   "cell_type": "code",
   "execution_count": 35,
   "id": "cac6713f",
   "metadata": {},
   "outputs": [
    {
     "data": {
      "text/plain": [
       "52"
      ]
     },
     "execution_count": 35,
     "metadata": {},
     "output_type": "execute_result"
    }
   ],
   "source": [
    "df = pd.DataFrame(prediction_data)\n",
    "len(df[df[\"source\"] == \"default\"])"
   ]
  },
  {
   "cell_type": "code",
   "execution_count": 36,
   "id": "cb2e0ad2",
   "metadata": {},
   "outputs": [
    {
     "data": {
      "text/plain": [
       "195"
      ]
     },
     "execution_count": 36,
     "metadata": {},
     "output_type": "execute_result"
    }
   ],
   "source": [
    "len(best_predictions)"
   ]
  },
  {
   "cell_type": "code",
   "execution_count": 37,
   "id": "0fc4bf27",
   "metadata": {},
   "outputs": [],
   "source": [
    "import base64\n",
    "import datamol as dm\n",
    "\n",
    "def serialize_rdkit_mol(mol: Chem.Mol):\n",
    "    props = Chem.PropertyPickleOptions.AllProps\n",
    "    mol_bytes = mol.ToBinary(props)\n",
    "    return base64.b64encode(mol_bytes).decode(\"ascii\")\n",
    "\n",
    "best_predictions_serialized = [serialize_rdkit_mol(mol) for mol in best_predictions]"
   ]
  },
  {
   "cell_type": "code",
   "execution_count": 38,
   "id": "b997809e",
   "metadata": {},
   "outputs": [
    {
     "data": {
      "text/plain": [
       "True"
      ]
     },
     "execution_count": 38,
     "metadata": {},
     "output_type": "execute_result"
    }
   ],
   "source": [
    "# check it works\n",
    "deserialized = Chem.Mol(base64.b64decode(best_predictions_serialized[0].encode(\"ascii\")))\n",
    "dm.same_mol(best_predictions[0], deserialized)"
   ]
  },
  {
   "cell_type": "code",
   "execution_count": 39,
   "id": "55a03ab5",
   "metadata": {},
   "outputs": [],
   "source": [
    "# write out the single sdf file\n",
    "writer = Chem.SDWriter(\"mcs_submitted.sdf\")\n",
    "for mol in best_predictions:\n",
    "    writer.write(mol)"
   ]
  },
  {
   "cell_type": "code",
   "execution_count": 40,
   "id": "0450528a",
   "metadata": {},
   "outputs": [
    {
     "data": {
      "text/plain": [
       "195"
      ]
     },
     "execution_count": 40,
     "metadata": {},
     "output_type": "execute_result"
    }
   ],
   "source": [
    "len(best_predictions)"
   ]
  },
  {
   "cell_type": "code",
   "execution_count": 42,
   "id": "4ae286e7",
   "metadata": {},
   "outputs": [
    {
     "data": {
      "text/html": [
       "<pre style=\"white-space:pre;overflow-x:auto;line-height:normal;font-family:Menlo,'DejaVu Sans Mono',consolas,'Courier New',monospace\">  <span style=\"color: #800080; text-decoration-color: #800080\">Submitting competition predictions</span> <span style=\"color: #729c1f; text-decoration-color: #729c1f\">━━━━━━━━━━━━━━━━━━━━━━━━━━━━━━━━━━━━━━━━</span> <span style=\"color: #008000; text-decoration-color: #008000\">1/1</span> <span style=\"color: #808000; text-decoration-color: #808000\">0:00:11</span>\n",
       "</pre>\n"
      ],
      "text/plain": [
       "  \u001b[35mSubmitting competition predictions\u001b[0m \u001b[38;2;114;156;31m━━━━━━━━━━━━━━━━━━━━━━━━━━━━━━━━━━━━━━━━\u001b[0m \u001b[32m1/1\u001b[0m \u001b[33m0:00:11\u001b[0m\n"
      ]
     },
     "metadata": {},
     "output_type": "display_data"
    },
    {
     "data": {
      "text/html": [
       "<pre style=\"white-space:pre;overflow-x:auto;line-height:normal;font-family:Menlo,'DejaVu Sans Mono',consolas,'Courier New',monospace\"><span style=\"color: #7fbfbf; text-decoration-color: #7fbfbf\">[14:38:35] </span><span style=\"color: #008000; text-decoration-color: #008000\"> Success: Submitting competition predictions</span>                                               <a href=\"file:///home/josh/mambaforge/envs/fegrow/lib/python3.11/site-packages/polaris/utils/context.py\" target=\"_blank\"><span style=\"color: #7f7f7f; text-decoration-color: #7f7f7f\">context.py</span></a><span style=\"color: #7f7f7f; text-decoration-color: #7f7f7f\">:</span><a href=\"file:///home/josh/mambaforge/envs/fegrow/lib/python3.11/site-packages/polaris/utils/context.py#53\" target=\"_blank\"><span style=\"color: #7f7f7f; text-decoration-color: #7f7f7f\">53</span></a>\n",
       "</pre>\n"
      ],
      "text/plain": [
       "\u001b[2;36m[14:38:35]\u001b[0m\u001b[2;36m \u001b[0m\u001b[32m Success: Submitting competition predictions\u001b[0m                                               \u001b]8;id=313457;file:///home/josh/mambaforge/envs/fegrow/lib/python3.11/site-packages/polaris/utils/context.py\u001b\\\u001b[2mcontext.py\u001b[0m\u001b]8;;\u001b\\\u001b[2m:\u001b[0m\u001b]8;id=457860;file:///home/josh/mambaforge/envs/fegrow/lib/python3.11/site-packages/polaris/utils/context.py#53\u001b\\\u001b[2m53\u001b[0m\u001b]8;;\u001b\\\n"
      ]
     },
     "metadata": {},
     "output_type": "display_data"
    },
    {
     "data": {
      "text/html": [
       "<pre style=\"white-space:pre;overflow-x:auto;line-height:normal;font-family:Menlo,'DejaVu Sans Mono',consolas,'Courier New',monospace\"></pre>\n"
      ],
      "text/plain": []
     },
     "metadata": {},
     "output_type": "display_data"
    }
   ],
   "source": [
    "competition.submit_predictions(\n",
    "    predictions=best_predictions_serialized,\n",
    "    prediction_name=\"openfe-newcastle-edinburgh-mcs-fegrow\",\n",
    "    prediction_owner=\"jthorton\",\n",
    "    report_url=\"https://github.com/jthorton/polaris_fegrow_mcs\",\n",
    "    github_url=\"https://github.com/jthorton/polaris_fegrow_mcs\",\n",
    "    description=\"FEGrow with mcs core structure finder.\",\n",
    "    tags=[\"FEGrow\", \"ANI\", \"OpenMM\", \"RDKit\", \"Sage\", \"OpenFF\"],\n",
    "    user_attributes={\"Framework\": \"FEGrow-MCS\", \"Method\": \"Constrained geometry optimisation with ML/MM\"}\n",
    ")"
   ]
  },
  {
   "cell_type": "code",
   "execution_count": null,
   "id": "0bc14309",
   "metadata": {},
   "outputs": [],
   "source": []
  }
 ],
 "metadata": {
  "kernelspec": {
   "display_name": "Python 3 (ipykernel)",
   "language": "python",
   "name": "python3"
  },
  "language_info": {
   "codemirror_mode": {
    "name": "ipython",
    "version": 3
   },
   "file_extension": ".py",
   "mimetype": "text/x-python",
   "name": "python",
   "nbconvert_exporter": "python",
   "pygments_lexer": "ipython3",
   "version": "3.11.11"
  }
 },
 "nbformat": 4,
 "nbformat_minor": 5
}
